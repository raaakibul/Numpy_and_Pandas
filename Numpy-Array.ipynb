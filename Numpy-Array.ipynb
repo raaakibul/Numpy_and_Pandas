{
 "cells": [
  {
   "cell_type": "code",
   "execution_count": 9,
   "metadata": {},
   "outputs": [
    {
     "data": {
      "text/plain": [
       "numpy.ndarray"
      ]
     },
     "execution_count": 9,
     "metadata": {},
     "output_type": "execute_result"
    }
   ],
   "source": [
    "import numpy as np\n",
    "\n",
    "sales = [0,5,155,0,518,0,1827,616,317,545]\n",
    "sales_array = np.array(sales)\n",
    "type(sales_array)"
   ]
  },
  {
   "cell_type": "code",
   "execution_count": 10,
   "metadata": {},
   "outputs": [
    {
     "name": "stdout",
     "output_type": "stream",
     "text": [
      "ndim: 1\n",
      "shape:(10,)\n",
      "size: 10\n",
      "dtype: int32\n"
     ]
    }
   ],
   "source": [
    "print(f\"ndim: {sales_array.ndim}\")\n",
    "print(f\"shape:{sales_array.shape}\")\n",
    "print(f\"size: {sales_array.size}\")\n",
    "print(f\"dtype: {sales_array.dtype}\")"
   ]
  },
  {
   "cell_type": "code",
   "execution_count": 11,
   "metadata": {},
   "outputs": [
    {
     "name": "stdout",
     "output_type": "stream",
     "text": [
      "[[   0    5  155    0  518]\n",
      " [   0 1827  616  317  545]]\n"
     ]
    }
   ],
   "source": [
    "sales2 = [[0,5,155,0,518],[0,1827,616,317,545]]\n",
    "sales_array2 = np.array(sales2)\n",
    "print(sales_array2)"
   ]
  },
  {
   "cell_type": "code",
   "execution_count": 15,
   "metadata": {},
   "outputs": [
    {
     "name": "stdout",
     "output_type": "stream",
     "text": [
      "ndim: 2\n",
      "shape:(2, 5)\n",
      "size: 10\n",
      "dtype: int32\n"
     ]
    }
   ],
   "source": [
    "print(f\"ndim: {sales_array2.ndim}\")\n",
    "print(f\"shape:{sales_array2.shape}\")\n",
    "print(f\"size: {sales_array2.size}\")\n",
    "print(f\"dtype: {sales_array2.dtype}\")"
   ]
  },
  {
   "cell_type": "code",
   "execution_count": null,
   "metadata": {},
   "outputs": [],
   "source": []
  }
 ],
 "metadata": {
  "kernelspec": {
   "display_name": "tf",
   "language": "python",
   "name": "python3"
  },
  "language_info": {
   "codemirror_mode": {
    "name": "ipython",
    "version": 3
   },
   "file_extension": ".py",
   "mimetype": "text/x-python",
   "name": "python",
   "nbconvert_exporter": "python",
   "pygments_lexer": "ipython3",
   "version": "3.10.4"
  }
 },
 "nbformat": 4,
 "nbformat_minor": 2
}
